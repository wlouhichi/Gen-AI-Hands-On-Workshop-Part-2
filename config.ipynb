{
 "cells": [
  {
   "cell_type": "markdown",
   "metadata": {
    "application/vnd.databricks.v1+cell": {
     "cellMetadata": {},
     "inputWidgets": {},
     "nuid": "ee45b58d-30cd-48a3-95ba-b45adc1d885f",
     "showTitle": false,
     "tableResultSettingsMap": {},
     "title": ""
    }
   },
   "source": [
    "## Configuration file\n",
    "\n",
    "Please change your catalog and schema here to run the demo on a different catalog.\n",
    "\n",
    "<!-- Collect usage data (view). Remove it to disable collection or disable tracker during installation. View README for more details.  -->\n",
    "<img width=\"1px\" src=\"https://ppxrzfxige.execute-api.us-west-2.amazonaws.com/v1/analytics?category=data-science&org_id=1444828305810485&notebook=%2Fconfig&demo_name=llm-rag-chatbot&event=VIEW&path=%2F_dbdemos%2Fdata-science%2Fllm-rag-chatbot%2Fconfig&version=1\">"
   ]
  },
  {
   "cell_type": "code",
   "execution_count": 0,
   "metadata": {
    "application/vnd.databricks.v1+cell": {
     "cellMetadata": {},
     "inputWidgets": {},
     "nuid": "b3083bfe-e207-4c28-8324-179bb6fad0b0",
     "showTitle": false,
     "tableResultSettingsMap": {},
     "title": ""
    }
   },
   "outputs": [],
   "source": [
    "VECTOR_SEARCH_ENDPOINT_NAME=\"one-env-shared-endpoint-17\"\n",
    "\n",
    "catalog = \"llm_workshop_2\"\n",
    "\n",
    "dbName = db = \"llm_rag_schema\"\n",
    "\n",
    "eval_table = \"eval_dataset\""
   ]
  },
  {
   "cell_type": "markdown",
   "metadata": {
    "application/vnd.databricks.v1+cell": {
     "cellMetadata": {},
     "inputWidgets": {},
     "nuid": "9f0dd2c7-f688-4e1b-adc7-19ddc28841bd",
     "showTitle": false,
     "tableResultSettingsMap": {},
     "title": ""
    }
   },
   "source": [
    "### License\n",
    "This demo installs the following external libraries on top of DBR(ML):\n",
    "\n",
    "\n",
    "| Library | License |\n",
    "|---------|---------|\n",
    "| langchain     | [MIT](https://github.com/langchain-ai/langchain/blob/master/LICENSE)     |\n",
    "| lxml      | [BSD-3](https://pypi.org/project/lxml/)     |\n",
    "| transformers      | [Apache 2.0](https://github.com/huggingface/transformers/blob/main/LICENSE)     |\n",
    "| unstructured      | [Apache 2.0](https://github.com/Unstructured-IO/unstructured/blob/main/LICENSE.md)     |\n",
    "| llama-index      | [MIT](https://github.com/run-llama/llama_index/blob/main/LICENSE)     |\n",
    "| tesseract      | [Apache 2.0](https://github.com/tesseract-ocr/tesseract/blob/main/LICENSE)     |\n",
    "| poppler-utils      | [MIT](https://github.com/skmetaly/poppler-utils/blob/master/LICENSE)     |\n",
    "| textstat      | [MIT](https://pypi.org/project/textstat/)     |\n",
    "| tiktoken      | [MIT](https://github.com/openai/tiktoken/blob/main/LICENSE)     |\n",
    "| evaluate      | [Apache2](https://pypi.org/project/evaluate/)     |\n",
    "| torch      | [BDS-3](https://github.com/intel/torch/blob/master/LICENSE.md)     |\n",
    "| tiktoken      | [MIT](https://github.com/openai/tiktoken/blob/main/LICENSE)     |\n",
    "\n",
    "\n",
    "\n"
   ]
  }
 ],
 "metadata": {
  "application/vnd.databricks.v1+notebook": {
   "computePreferences": null,
   "dashboards": [],
   "environmentMetadata": null,
   "language": "python",
   "notebookMetadata": {
    "pythonIndentUnit": 4
   },
   "notebookName": "config",
   "widgets": {}
  },
  "language_info": {
   "name": "python"
  }
 },
 "nbformat": 4,
 "nbformat_minor": 0
}
