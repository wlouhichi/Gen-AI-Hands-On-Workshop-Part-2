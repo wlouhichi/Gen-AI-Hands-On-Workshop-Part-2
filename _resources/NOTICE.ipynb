{
 "cells": [
  {
   "cell_type": "markdown",
   "metadata": {
    "application/vnd.databricks.v1+cell": {
     "cellMetadata": {},
     "inputWidgets": {},
     "nuid": "0704414a-6946-4b0c-ba3c-6f787f4c9830",
     "showTitle": false,
     "tableResultSettingsMap": {},
     "title": ""
    }
   },
   "source": [
    "## Licence\n",
    "See LICENSE file.\n",
    "\n",
    "## Data collection\n",
    "To improve users experience and dbdemos asset quality, dbdemos sends report usage and capture views in the installed notebook (usually in the first cell) and other assets like dashboards. This information is captured for product improvement only and not for marketing purpose, and doesn't contain PII information. By using `dbdemos` and the assets it provides, you consent to this data collection. If you wish to disable it, you can set `Tracker.enable_tracker` to False in the `tracker.py` file.\n",
    "\n",
    "## Resource creation\n",
    "To simplify your experience, `dbdemos` will create and start for you resources. As example, a demo could start (not exhaustive):\n",
    "- A cluster to run your demo\n",
    "- A Delta Live Table Pipeline to ingest data\n",
    "- A DBSQL endpoint to run DBSQL dashboard\n",
    "- An ML model\n",
    "\n",
    "While `dbdemos` does its best to limit the consumption and enforce resource auto-termination, you remain responsible for the resources created and the potential consumption associated.\n",
    "\n",
    "## Support\n",
    "Databricks does not offer official support for `dbdemos` and the associated assets.\n",
    "For any issue with `dbdemos` or the demos installed, please open an issue and the demo team will have a look on a best effort basis.\n",
    "\n"
   ]
  }
 ],
 "metadata": {
  "application/vnd.databricks.v1+notebook": {
   "computePreferences": null,
   "dashboards": [],
   "environmentMetadata": null,
   "language": "python",
   "notebookMetadata": {
    "pythonIndentUnit": 2
   },
   "notebookName": "NOTICE",
   "widgets": {}
  },
  "language_info": {
   "name": "python"
  }
 },
 "nbformat": 4,
 "nbformat_minor": 0
}
