{
 "cells": [
  {
   "cell_type": "markdown",
   "metadata": {
    "application/vnd.databricks.v1+cell": {
     "cellMetadata": {},
     "inputWidgets": {},
     "nuid": "0704414a-6946-4b0c-ba3c-6f787f4c9830",
     "showTitle": false,
     "tableResultSettingsMap": {},
     "title": ""
    }
   },
   "source": [
    "## Licence"
   ]
  },
  {
   "cell_type": "markdown",
   "metadata": {
    "application/vnd.databricks.v1+cell": {
     "cellMetadata": {},
     "inputWidgets": {},
     "nuid": "c217876b-791c-4d0a-938a-d9b179f1f98f",
     "showTitle": false,
     "tableResultSettingsMap": {},
     "title": ""
    }
   },
   "source": [
    "\n",
    "Copyright (2022) Databricks, Inc.\n",
    "\n",
    "This library (the \"Software\") may not be used except in connection with the Licensee's use of the Databricks Platform Services pursuant \n",
    "to an Agreement (defined below) between Licensee (defined below) and Databricks, Inc. (\"Databricks\"). The Object Code version of the \n",
    "Software shall be deemed part of the Downloadable Services under the Agreement, or if the Agreement does not define Downloadable Services, \n",
    "Subscription Services, or if neither are defined then the term in such Agreement that refers to the applicable Databricks Platform \n",
    "Services (as defined below) shall be substituted herein for “Downloadable Services.”  Licensee's use of the Software must comply at \n",
    "all times with any restrictions applicable to the Downlodable Services and Subscription Services, generally, and must be used in \n",
    "accordance with any applicable documentation. For the avoidance of doubt, the Software constitutes Databricks Confidential Information\n",
    "under the Agreement.\n",
    "\n",
    "Additionally, and notwithstanding anything in the Agreement to the contrary: \n",
    "* THE SOFTWARE IS PROVIDED \"AS IS\", WITHOUT WARRANTY OF ANY KIND, EXPRESS OR IMPLIED, INCLUDING BUT NOT LIMITED TO THE WARRANTIES \n",
    "  OF MERCHANTABILITY, FITNESS FOR A PARTICULAR PURPOSE AND NONINFRINGEMENT. IN NO EVENT SHALL THE AUTHORS OR COPYRIGHT HOLDERS BE \n",
    "  LIABLE FOR ANY CLAIM, DAMAGES OR OTHER LIABILITY, WHETHER IN AN ACTION OF CONTRACT, TORT OR OTHERWISE, ARISING FROM, OUT OF OR \n",
    "  IN CONNECTION WITH THE SOFTWARE OR THE USE OR OTHER DEALINGS IN THE SOFTWARE.\n",
    "* you may view, make limited copies of, and may compile the Source Code version of the Software into an Object Code version of the\n",
    "  Software.  For the avoidance of doubt, you may not make derivative works of Software (or make any any changes to the Source Code \n",
    "  version of the unless you have agreed to separate terms with Databricks permitting such modifications (e.g., a contribution license\n",
    "  agreement)).\n",
    "\n",
    "If you have not agreed to an Agreement or otherwise do not agree to these terms, you may not use the Software or view, copy or compile\n",
    "the Source Code of the Software.\n",
    "  \n",
    "This license terminates automatically upon the termination of the Agreement or Licensee's breach of these terms.  Additionally, \n",
    "Databricks may terminate this license at any time on notice.  Upon termination, you must permanently delete the Software and all\n",
    "copies thereof (including the Source Code).\n",
    "\n",
    "Agreement: the agreement between Databricks and Licensee governing the use of the Databricks Platform Services, which shall be, with\n",
    "respect to Databricks, the Databricks Terms of Service located at www.databricks.com/termsofservice, and with respect to Databricks\n",
    "Community Edition, the Community Edition Terms of Service located at www.databricks.com/ce-termsofuse, in each case unless Licensee \n",
    "has entered into a separate written agreement with Databricks governing the use of the applicable Databricks Platform Services.\n",
    " \n",
    "Databricks Platform Services: the Databricks services or the Databricks Community Edition services, according to where the Software is used.\n",
    "\n",
    "Licensee: the user of the Software, or, if the Software is being used on behalf of a company, the company.\n",
    "\n",
    "Object Code: is version of the Software produced when an interpreter or a compiler translates the Source Code into recognizable and \n",
    "executable machine code.\n",
    "\n",
    "Source Code: the human readable portion of the Software."
   ]
  }
 ],
 "metadata": {
  "application/vnd.databricks.v1+notebook": {
   "computePreferences": null,
   "dashboards": [],
   "environmentMetadata": null,
   "language": "python",
   "notebookMetadata": {
    "pythonIndentUnit": 2
   },
   "notebookName": "LICENSE",
   "widgets": {}
  },
  "language_info": {
   "name": "python"
  }
 },
 "nbformat": 4,
 "nbformat_minor": 0
}
